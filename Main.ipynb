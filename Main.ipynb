{
  "nbformat": 4,
  "nbformat_minor": 0,
  "metadata": {
    "colab": {
      "provenance": []
    },
    "kernelspec": {
      "name": "python3",
      "display_name": "Python 3"
    },
    "language_info": {
      "name": "python"
    }
  },
  "cells": [
    {
      "cell_type": "markdown",
      "source": [
        "Load the model"
      ],
      "metadata": {
        "id": "tLsYmWpGrdc5"
      }
    },
    {
      "cell_type": "code",
      "source": [
        "import pickle\n",
        "import pandas as pd\n",
        "import numpy as np\n",
        "\n",
        "filename = \"final_model.pickle\"\n",
        "\n",
        "# Load the trained model\n",
        "model = pickle.load(open(filename, \"rb\"))"
      ],
      "metadata": {
        "id": "TNIm9SPzJNnG"
      },
      "execution_count": 13,
      "outputs": []
    },
    {
      "cell_type": "code",
      "source": [
        "def predict_disease(symptoms_list, model=model):\n",
        "    # Read the symptom severity CSV file\n",
        "    df1 = pd.read_csv('Symptom-severity.csv')\n",
        "    \n",
        "    # Get the list of all available symptoms\n",
        "    all_symptoms = df1['Symptom'].unique()\n",
        "    \n",
        "    # Create a dictionary of symptom weights\n",
        "    symptom_weights = dict(zip(df1.Symptom, df1.weight))\n",
        "    \n",
        "    # Convert the user input list of symptoms to severity scores\n",
        "    symptom_scores = [symptom_weights[symptom] for symptom in symptoms_list if symptom in all_symptoms]\n",
        "    \n",
        "    # Pad the symptom scores with 0's to match the number of symptoms in the encoded dataset\n",
        "    max_num_symptoms = 17\n",
        "    symptom_scores = symptom_scores + [0]*(max_num_symptoms - len(symptom_scores))\n",
        "    \n",
        "    # Reshape the symptom scores as a numpy array to match the input format of the SVC model\n",
        "    symptom_scores = np.array(symptom_scores).reshape(1, -1)\n",
        "    \n",
        "    # Make a prediction and obtain the probability estimates for each of the possible classes\n",
        "    predicted_disease = model.predict(symptom_scores)[0]\n",
        "    prob_estimates = model.predict_proba(symptom_scores)[0]\n",
        "    \n",
        "    # Create a dictionary of disease names and their corresponding index in the probability estimates array\n",
        "    disease_names = dict(zip(range(len(model.classes_)), model.classes_))\n",
        "    \n",
        "    # Create a list of tuples containing the disease name and its corresponding probability estimate\n",
        "    disease_probs = [(disease_names[i], prob_estimates[i]) for i in range(len(prob_estimates))]\n",
        "    \n",
        "    # Sort the disease probability list in descending order of probability estimates\n",
        "    disease_probs.sort(key=lambda x: x[1], reverse=True)\n",
        "    \n",
        "    # Create a formatted string that includes the predicted disease and the list of disease probabilities\n",
        "    result_str = f\"Predicted Disease: {predicted_disease}\\n\\n\"\n",
        "    result_str += \"Top 3 Disease Probabilities:\\n\"\n",
        "    for disease, prob in disease_probs[:3]:\n",
        "        result_str += f\"{disease}: {prob * 100:.1f}%\\n\"\n",
        "    \n",
        "    return predicted_disease, result_str"
      ],
      "metadata": {
        "id": "UXqb5dyLJLGC"
      },
      "execution_count": 23,
      "outputs": []
    },
    {
      "cell_type": "code",
      "source": [
        "symptoms_list = ['fatigue', 'muscle_wasting', 'weight_gain', 'irritability']\n",
        "predicted_disease, disease_probs = predict_disease(symptoms_list)\n",
        "\n",
        "print(disease_probs)"
      ],
      "metadata": {
        "colab": {
          "base_uri": "https://localhost:8080/"
        },
        "id": "SgorEoPUCZBy",
        "outputId": "c68ed54a-5464-459a-f47a-c35f5ea7b8f0"
      },
      "execution_count": 24,
      "outputs": [
        {
          "output_type": "stream",
          "name": "stdout",
          "text": [
            "Predicted Disease: Paralysis (brain hemorrhage)\n",
            "\n",
            "Top 3 Disease Probabilities:\n",
            "Paralysis (brain hemorrhage): 66.6%\n",
            "Allergy: 13.1%\n",
            "Impetigo: 4.2%\n",
            "\n"
          ]
        }
      ]
    }
  ]
}