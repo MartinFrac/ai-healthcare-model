{
  "cells": [
    {
      "cell_type": "markdown",
      "metadata": {
        "id": "tLsYmWpGrdc5"
      },
      "source": [
        "Load the model"
      ]
    },
    {
      "cell_type": "code",
      "execution_count": 4,
      "metadata": {
        "id": "TNIm9SPzJNnG"
      },
      "outputs": [],
      "source": [
        "import pickle\n",
        "import pandas as pd\n",
        "import numpy as np\n",
        "\n",
        "filename = \"../saved models/model.pickle\"\n",
        "\n",
        "# Load the trained model\n",
        "model = pickle.load(open(filename, \"rb\"))"
      ]
    },
    {
      "cell_type": "code",
      "execution_count": 10,
      "metadata": {
        "id": "UXqb5dyLJLGC"
      },
      "outputs": [],
      "source": [
        "def predict_disease(symptoms_list, model=model):\n",
        "    # Read the symptom severity CSV file\n",
        "    df1 = pd.read_csv('../datasets/Symptom-severity.csv')\n",
        "    \n",
        "    # Get the list of all available symptoms\n",
        "    all_symptoms = df1['Symptom'].unique()\n",
        "    \n",
        "    # Create a dictionary of symptom weights\n",
        "    symptom_weights = dict(zip(df1.Symptom, df1.weight))\n",
        "    \n",
        "    # Convert the user input list of symptoms to severity scores\n",
        "    symptom_scores = [symptom_weights[symptom] for symptom in symptoms_list if symptom in all_symptoms]\n",
        "    \n",
        "    # Pad the symptom scores with 0's to match the number of symptoms in the encoded dataset\n",
        "    max_num_symptoms = 17\n",
        "    symptom_scores = symptom_scores + [0]*(max_num_symptoms - len(symptom_scores))\n",
        "    \n",
        "    # Reshape the symptom scores as a numpy array to match the input format of the SVC model\n",
        "    symptom_scores = np.array(symptom_scores).reshape(1, -1)\n",
        "    \n",
        "    # Make a prediction and obtain the probability estimates for each of the possible classes\n",
        "    predicted_disease = model.predict(symptom_scores)[0]\n",
        "    prob_estimates = model.predict_proba(symptom_scores)[0]\n",
        "    \n",
        "    # Create a dictionary of disease names and their corresponding index in the probability estimates array\n",
        "    disease_names = dict(zip(range(len(model.classes_)), model.classes_))\n",
        "    \n",
        "    # Create a list of tuples containing the disease name and its corresponding probability estimate\n",
        "    disease_probs = [(disease_names[i], prob_estimates[i]) for i in range(len(prob_estimates))]\n",
        "    \n",
        "    # Sort the disease probability list in descending order of probability estimates\n",
        "    disease_probs.sort(key=lambda x: x[1], reverse=True)\n",
        "    \n",
        "    # Create a formatted string that includes the predicted disease and the list of disease probabilities\n",
        "    result_str = f\"Predicted Disease: {predicted_disease}\\n\\n\"\n",
        "    result_str += \"Top 3 Disease Probabilities:\\n\"\n",
        "    for disease, prob in disease_probs[:3]:\n",
        "        result_str += f\"{disease}: {prob * 100:.1f}%\\n\"\n",
        "    \n",
        "    return predicted_disease, result_str"
      ]
    },
    {
      "cell_type": "code",
      "execution_count": 15,
      "metadata": {
        "colab": {
          "base_uri": "https://localhost:8080/"
        },
        "id": "SgorEoPUCZBy",
        "outputId": "c68ed54a-5464-459a-f47a-c35f5ea7b8f0"
      },
      "outputs": [
        {
          "name": "stdout",
          "output_type": "stream",
          "text": [
            "Predicted Disease: Psoriasis\n",
            "\n",
            "Top 3 Disease Probabilities:\n",
            "Paralysis (brain hemorrhage): 29.2%\n",
            "Psoriasis: 27.2%\n",
            "Allergy: 11.9%\n",
            "\n"
          ]
        }
      ],
      "source": [
        "symptoms_list = ['fatigue', 'muscle_wasting', 'weight_gain', 'irritability', 'itching']\n",
        "predicted_disease, disease_probs = predict_disease(symptoms_list)\n",
        "\n",
        "print(disease_probs)"
      ]
    }
  ],
  "metadata": {
    "colab": {
      "provenance": []
    },
    "kernelspec": {
      "display_name": "Python 3",
      "language": "python",
      "name": "python3"
    },
    "language_info": {
      "codemirror_mode": {
        "name": "ipython",
        "version": 3
      },
      "file_extension": ".py",
      "mimetype": "text/x-python",
      "name": "python",
      "nbconvert_exporter": "python",
      "pygments_lexer": "ipython3",
      "version": "3.11.2"
    },
    "vscode": {
      "interpreter": {
        "hash": "040cfd5baec9b3e46647432b8bc592cead5ecdf4224f863cff9b587de46d2d74"
      }
    }
  },
  "nbformat": 4,
  "nbformat_minor": 0
}
