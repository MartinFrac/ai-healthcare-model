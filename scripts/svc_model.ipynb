{
  "cells": [
    {
      "cell_type": "markdown",
      "metadata": {
        "id": "0kX-W4-m8EKr"
      },
      "source": [
        "# Code Explanation\n",
        "\n",
        "The code is reading a dataset file in CSV format named dataset.csv and then processing it.\n",
        "\n",
        "After importing the required libraries, it reads the file using the pandas.read_csv() function and displays the first 5 rows of the dataset using the df.head() function.\n",
        "\n",
        "It then prints the number of unique diseases in the dataset by counting the number of unique values in the Disease column using the df['Disease'].unique() function.\n",
        "\n",
        "The df.describe() function is used to display some statistical information about the dataset. It provides information such as the count, unique values, and top and frequency of each column.\n",
        "\n",
        "The df.isnull().sum() function is used to check the number of missing values in each column of the dataset.\n",
        "\n",
        "To remove the trailing spaces from the symptom columns, it first flattens the dataset into a 1D array using df[cols].values.flatten(). It then creates a pandas Series object from the flattened array and removes the spaces using the str.strip() function. Finally, it reshapes the data into the original shape of the dataset using the values.reshape(df.shape) function and creates a new dataframe with the cleaned data.\n",
        "\n",
        "The code is then ready to perform some analysis on the cleaned data using machine learning models such as the Support Vector Machine (SVM) algorithm."
      ]
    },
    {
      "cell_type": "code",
      "execution_count": 19,
      "metadata": {
        "colab": {
          "base_uri": "https://localhost:8080/"
        },
        "id": "voTi_W_XfMZb",
        "outputId": "04281eca-8371-4327-8a63-40d01cdf193c"
      },
      "outputs": [
        {
          "name": "stdout",
          "output_type": "stream",
          "text": [
            " Volume in drive C is Acer\n",
            " Volume Serial Number is 4EEE-02AC\n",
            "\n",
            " Directory of c:\\Projects\\Python\\Agile\\scripts\n",
            "\n",
            "17/02/2023  14:28    <DIR>          .\n",
            "18/02/2023  18:17    <DIR>          ..\n",
            "24/02/2023  13:16    <DIR>          __pycache__\n",
            "17/02/2023  14:19             4,891 main.ipynb\n",
            "01/03/2023  20:31             2,612 server.py\n",
            "01/03/2023  20:42           142,746 svc_model.ipynb\n",
            "               3 File(s)        150,249 bytes\n",
            "               3 Dir(s)  270,010,830,848 bytes free\n"
          ]
        }
      ],
      "source": [
        "%ls"
      ]
    },
    {
      "cell_type": "code",
      "execution_count": 20,
      "metadata": {
        "id": "U-5ffuRjgul0"
      },
      "outputs": [],
      "source": [
        "import pandas as pd\n",
        "import numpy as np\n",
        "import matplotlib.pyplot as plt\n",
        "from sklearn.model_selection import train_test_split\n",
        "from sklearn.svm import SVC\n",
        "from sklearn.metrics import f1_score, accuracy_score, confusion_matrix\n",
        "import seaborn as sns"
      ]
    },
    {
      "cell_type": "code",
      "execution_count": 21,
      "metadata": {
        "colab": {
          "base_uri": "https://localhost:8080/",
          "height": 357
        },
        "id": "i34xquX6gsAO",
        "outputId": "db7a611b-d943-4fe3-cd30-a7da2df8bcf6"
      },
      "outputs": [
        {
          "data": {
            "text/html": [
              "<div>\n",
              "<style scoped>\n",
              "    .dataframe tbody tr th:only-of-type {\n",
              "        vertical-align: middle;\n",
              "    }\n",
              "\n",
              "    .dataframe tbody tr th {\n",
              "        vertical-align: top;\n",
              "    }\n",
              "\n",
              "    .dataframe thead th {\n",
              "        text-align: right;\n",
              "    }\n",
              "</style>\n",
              "<table border=\"1\" class=\"dataframe\">\n",
              "  <thead>\n",
              "    <tr style=\"text-align: right;\">\n",
              "      <th></th>\n",
              "      <th>Disease</th>\n",
              "      <th>Symptom_1</th>\n",
              "      <th>Symptom_2</th>\n",
              "      <th>Symptom_3</th>\n",
              "      <th>Symptom_4</th>\n",
              "      <th>Symptom_5</th>\n",
              "      <th>Symptom_6</th>\n",
              "      <th>Symptom_7</th>\n",
              "      <th>Symptom_8</th>\n",
              "      <th>Symptom_9</th>\n",
              "      <th>Symptom_10</th>\n",
              "      <th>Symptom_11</th>\n",
              "      <th>Symptom_12</th>\n",
              "      <th>Symptom_13</th>\n",
              "      <th>Symptom_14</th>\n",
              "      <th>Symptom_15</th>\n",
              "      <th>Symptom_16</th>\n",
              "      <th>Symptom_17</th>\n",
              "    </tr>\n",
              "  </thead>\n",
              "  <tbody>\n",
              "    <tr>\n",
              "      <th>0</th>\n",
              "      <td>Fungal infection</td>\n",
              "      <td>itching</td>\n",
              "      <td>skin_rash</td>\n",
              "      <td>nodal_skin_eruptions</td>\n",
              "      <td>dischromic _patches</td>\n",
              "      <td>NaN</td>\n",
              "      <td>NaN</td>\n",
              "      <td>NaN</td>\n",
              "      <td>NaN</td>\n",
              "      <td>NaN</td>\n",
              "      <td>NaN</td>\n",
              "      <td>NaN</td>\n",
              "      <td>NaN</td>\n",
              "      <td>NaN</td>\n",
              "      <td>NaN</td>\n",
              "      <td>NaN</td>\n",
              "      <td>NaN</td>\n",
              "      <td>NaN</td>\n",
              "    </tr>\n",
              "    <tr>\n",
              "      <th>1</th>\n",
              "      <td>Fungal infection</td>\n",
              "      <td>skin_rash</td>\n",
              "      <td>nodal_skin_eruptions</td>\n",
              "      <td>dischromic _patches</td>\n",
              "      <td>NaN</td>\n",
              "      <td>NaN</td>\n",
              "      <td>NaN</td>\n",
              "      <td>NaN</td>\n",
              "      <td>NaN</td>\n",
              "      <td>NaN</td>\n",
              "      <td>NaN</td>\n",
              "      <td>NaN</td>\n",
              "      <td>NaN</td>\n",
              "      <td>NaN</td>\n",
              "      <td>NaN</td>\n",
              "      <td>NaN</td>\n",
              "      <td>NaN</td>\n",
              "      <td>NaN</td>\n",
              "    </tr>\n",
              "    <tr>\n",
              "      <th>2</th>\n",
              "      <td>Fungal infection</td>\n",
              "      <td>itching</td>\n",
              "      <td>nodal_skin_eruptions</td>\n",
              "      <td>dischromic _patches</td>\n",
              "      <td>NaN</td>\n",
              "      <td>NaN</td>\n",
              "      <td>NaN</td>\n",
              "      <td>NaN</td>\n",
              "      <td>NaN</td>\n",
              "      <td>NaN</td>\n",
              "      <td>NaN</td>\n",
              "      <td>NaN</td>\n",
              "      <td>NaN</td>\n",
              "      <td>NaN</td>\n",
              "      <td>NaN</td>\n",
              "      <td>NaN</td>\n",
              "      <td>NaN</td>\n",
              "      <td>NaN</td>\n",
              "    </tr>\n",
              "    <tr>\n",
              "      <th>3</th>\n",
              "      <td>Fungal infection</td>\n",
              "      <td>itching</td>\n",
              "      <td>skin_rash</td>\n",
              "      <td>dischromic _patches</td>\n",
              "      <td>NaN</td>\n",
              "      <td>NaN</td>\n",
              "      <td>NaN</td>\n",
              "      <td>NaN</td>\n",
              "      <td>NaN</td>\n",
              "      <td>NaN</td>\n",
              "      <td>NaN</td>\n",
              "      <td>NaN</td>\n",
              "      <td>NaN</td>\n",
              "      <td>NaN</td>\n",
              "      <td>NaN</td>\n",
              "      <td>NaN</td>\n",
              "      <td>NaN</td>\n",
              "      <td>NaN</td>\n",
              "    </tr>\n",
              "    <tr>\n",
              "      <th>4</th>\n",
              "      <td>Fungal infection</td>\n",
              "      <td>itching</td>\n",
              "      <td>skin_rash</td>\n",
              "      <td>nodal_skin_eruptions</td>\n",
              "      <td>NaN</td>\n",
              "      <td>NaN</td>\n",
              "      <td>NaN</td>\n",
              "      <td>NaN</td>\n",
              "      <td>NaN</td>\n",
              "      <td>NaN</td>\n",
              "      <td>NaN</td>\n",
              "      <td>NaN</td>\n",
              "      <td>NaN</td>\n",
              "      <td>NaN</td>\n",
              "      <td>NaN</td>\n",
              "      <td>NaN</td>\n",
              "      <td>NaN</td>\n",
              "      <td>NaN</td>\n",
              "    </tr>\n",
              "  </tbody>\n",
              "</table>\n",
              "</div>"
            ],
            "text/plain": [
              "            Disease   Symptom_1              Symptom_2              Symptom_3  \\\n",
              "0  Fungal infection     itching              skin_rash   nodal_skin_eruptions   \n",
              "1  Fungal infection   skin_rash   nodal_skin_eruptions    dischromic _patches   \n",
              "2  Fungal infection     itching   nodal_skin_eruptions    dischromic _patches   \n",
              "3  Fungal infection     itching              skin_rash    dischromic _patches   \n",
              "4  Fungal infection     itching              skin_rash   nodal_skin_eruptions   \n",
              "\n",
              "              Symptom_4 Symptom_5 Symptom_6 Symptom_7 Symptom_8 Symptom_9  \\\n",
              "0   dischromic _patches       NaN       NaN       NaN       NaN       NaN   \n",
              "1                   NaN       NaN       NaN       NaN       NaN       NaN   \n",
              "2                   NaN       NaN       NaN       NaN       NaN       NaN   \n",
              "3                   NaN       NaN       NaN       NaN       NaN       NaN   \n",
              "4                   NaN       NaN       NaN       NaN       NaN       NaN   \n",
              "\n",
              "  Symptom_10 Symptom_11 Symptom_12 Symptom_13 Symptom_14 Symptom_15  \\\n",
              "0        NaN        NaN        NaN        NaN        NaN        NaN   \n",
              "1        NaN        NaN        NaN        NaN        NaN        NaN   \n",
              "2        NaN        NaN        NaN        NaN        NaN        NaN   \n",
              "3        NaN        NaN        NaN        NaN        NaN        NaN   \n",
              "4        NaN        NaN        NaN        NaN        NaN        NaN   \n",
              "\n",
              "  Symptom_16 Symptom_17  \n",
              "0        NaN        NaN  \n",
              "1        NaN        NaN  \n",
              "2        NaN        NaN  \n",
              "3        NaN        NaN  \n",
              "4        NaN        NaN  "
            ]
          },
          "execution_count": 21,
          "metadata": {},
          "output_type": "execute_result"
        }
      ],
      "source": [
        "df = pd.read_csv('../datasets/dataset.csv')\n",
        "df.head()"
      ]
    },
    {
      "cell_type": "markdown",
      "metadata": {
        "id": "ZabDeGTX0IXf"
      },
      "source": [
        "How many diseases are in the dataset?"
      ]
    },
    {
      "cell_type": "code",
      "execution_count": 22,
      "metadata": {
        "colab": {
          "base_uri": "https://localhost:8080/"
        },
        "id": "AvFTpyGXwrPN",
        "outputId": "9e348406-cdc7-40c6-8099-48b19e64f676"
      },
      "outputs": [
        {
          "data": {
            "text/plain": [
              "41"
            ]
          },
          "execution_count": 22,
          "metadata": {},
          "output_type": "execute_result"
        }
      ],
      "source": [
        "len(df['Disease'].unique())"
      ]
    },
    {
      "cell_type": "code",
      "execution_count": 23,
      "metadata": {
        "colab": {
          "base_uri": "https://localhost:8080/",
          "height": 256
        },
        "id": "dvGF1mtNg4Jd",
        "outputId": "fc954c1c-48d6-498a-aaad-3410d5d9217c"
      },
      "outputs": [
        {
          "data": {
            "text/html": [
              "<div>\n",
              "<style scoped>\n",
              "    .dataframe tbody tr th:only-of-type {\n",
              "        vertical-align: middle;\n",
              "    }\n",
              "\n",
              "    .dataframe tbody tr th {\n",
              "        vertical-align: top;\n",
              "    }\n",
              "\n",
              "    .dataframe thead th {\n",
              "        text-align: right;\n",
              "    }\n",
              "</style>\n",
              "<table border=\"1\" class=\"dataframe\">\n",
              "  <thead>\n",
              "    <tr style=\"text-align: right;\">\n",
              "      <th></th>\n",
              "      <th>Disease</th>\n",
              "      <th>Symptom_1</th>\n",
              "      <th>Symptom_2</th>\n",
              "      <th>Symptom_3</th>\n",
              "      <th>Symptom_4</th>\n",
              "      <th>Symptom_5</th>\n",
              "      <th>Symptom_6</th>\n",
              "      <th>Symptom_7</th>\n",
              "      <th>Symptom_8</th>\n",
              "      <th>Symptom_9</th>\n",
              "      <th>Symptom_10</th>\n",
              "      <th>Symptom_11</th>\n",
              "      <th>Symptom_12</th>\n",
              "      <th>Symptom_13</th>\n",
              "      <th>Symptom_14</th>\n",
              "      <th>Symptom_15</th>\n",
              "      <th>Symptom_16</th>\n",
              "      <th>Symptom_17</th>\n",
              "    </tr>\n",
              "  </thead>\n",
              "  <tbody>\n",
              "    <tr>\n",
              "      <th>count</th>\n",
              "      <td>4920</td>\n",
              "      <td>4920</td>\n",
              "      <td>4920</td>\n",
              "      <td>4920</td>\n",
              "      <td>4572</td>\n",
              "      <td>3714</td>\n",
              "      <td>2934</td>\n",
              "      <td>2268</td>\n",
              "      <td>1944</td>\n",
              "      <td>1692</td>\n",
              "      <td>1512</td>\n",
              "      <td>1194</td>\n",
              "      <td>744</td>\n",
              "      <td>504</td>\n",
              "      <td>306</td>\n",
              "      <td>240</td>\n",
              "      <td>192</td>\n",
              "      <td>72</td>\n",
              "    </tr>\n",
              "    <tr>\n",
              "      <th>unique</th>\n",
              "      <td>41</td>\n",
              "      <td>34</td>\n",
              "      <td>48</td>\n",
              "      <td>54</td>\n",
              "      <td>50</td>\n",
              "      <td>38</td>\n",
              "      <td>32</td>\n",
              "      <td>26</td>\n",
              "      <td>21</td>\n",
              "      <td>22</td>\n",
              "      <td>21</td>\n",
              "      <td>18</td>\n",
              "      <td>11</td>\n",
              "      <td>8</td>\n",
              "      <td>4</td>\n",
              "      <td>3</td>\n",
              "      <td>3</td>\n",
              "      <td>1</td>\n",
              "    </tr>\n",
              "    <tr>\n",
              "      <th>top</th>\n",
              "      <td>Fungal infection</td>\n",
              "      <td>vomiting</td>\n",
              "      <td>vomiting</td>\n",
              "      <td>fatigue</td>\n",
              "      <td>high_fever</td>\n",
              "      <td>headache</td>\n",
              "      <td>nausea</td>\n",
              "      <td>abdominal_pain</td>\n",
              "      <td>abdominal_pain</td>\n",
              "      <td>yellowing_of_eyes</td>\n",
              "      <td>yellowing_of_eyes</td>\n",
              "      <td>irritability</td>\n",
              "      <td>malaise</td>\n",
              "      <td>muscle_pain</td>\n",
              "      <td>chest_pain</td>\n",
              "      <td>chest_pain</td>\n",
              "      <td>blood_in_sputum</td>\n",
              "      <td>muscle_pain</td>\n",
              "    </tr>\n",
              "    <tr>\n",
              "      <th>freq</th>\n",
              "      <td>120</td>\n",
              "      <td>822</td>\n",
              "      <td>870</td>\n",
              "      <td>726</td>\n",
              "      <td>378</td>\n",
              "      <td>348</td>\n",
              "      <td>390</td>\n",
              "      <td>264</td>\n",
              "      <td>276</td>\n",
              "      <td>228</td>\n",
              "      <td>198</td>\n",
              "      <td>120</td>\n",
              "      <td>126</td>\n",
              "      <td>72</td>\n",
              "      <td>96</td>\n",
              "      <td>144</td>\n",
              "      <td>72</td>\n",
              "      <td>72</td>\n",
              "    </tr>\n",
              "  </tbody>\n",
              "</table>\n",
              "</div>"
            ],
            "text/plain": [
              "                 Disease  Symptom_1  Symptom_2 Symptom_3    Symptom_4  \\\n",
              "count               4920       4920       4920      4920         4572   \n",
              "unique                41         34         48        54           50   \n",
              "top     Fungal infection   vomiting   vomiting   fatigue   high_fever   \n",
              "freq                 120        822        870       726          378   \n",
              "\n",
              "        Symptom_5 Symptom_6        Symptom_7        Symptom_8  \\\n",
              "count        3714      2934             2268             1944   \n",
              "unique         38        32               26               21   \n",
              "top      headache    nausea   abdominal_pain   abdominal_pain   \n",
              "freq          348       390              264              276   \n",
              "\n",
              "                 Symptom_9          Symptom_10     Symptom_11 Symptom_12  \\\n",
              "count                 1692                1512           1194        744   \n",
              "unique                  22                  21             18         11   \n",
              "top      yellowing_of_eyes   yellowing_of_eyes   irritability    malaise   \n",
              "freq                   228                 198            120        126   \n",
              "\n",
              "          Symptom_13   Symptom_14   Symptom_15        Symptom_16    Symptom_17  \n",
              "count            504          306          240               192            72  \n",
              "unique             8            4            3                 3             1  \n",
              "top      muscle_pain   chest_pain   chest_pain   blood_in_sputum   muscle_pain  \n",
              "freq              72           96          144                72            72  "
            ]
          },
          "execution_count": 23,
          "metadata": {},
          "output_type": "execute_result"
        }
      ],
      "source": [
        "df.describe()"
      ]
    },
    {
      "cell_type": "code",
      "execution_count": 24,
      "metadata": {
        "colab": {
          "base_uri": "https://localhost:8080/"
        },
        "id": "6liq2JxAg_gb",
        "outputId": "04e80a82-9ed2-4772-ce44-d95a413d063e"
      },
      "outputs": [
        {
          "data": {
            "text/plain": [
              "Disease          0\n",
              "Symptom_1        0\n",
              "Symptom_2        0\n",
              "Symptom_3        0\n",
              "Symptom_4      348\n",
              "Symptom_5     1206\n",
              "Symptom_6     1986\n",
              "Symptom_7     2652\n",
              "Symptom_8     2976\n",
              "Symptom_9     3228\n",
              "Symptom_10    3408\n",
              "Symptom_11    3726\n",
              "Symptom_12    4176\n",
              "Symptom_13    4416\n",
              "Symptom_14    4614\n",
              "Symptom_15    4680\n",
              "Symptom_16    4728\n",
              "Symptom_17    4848\n",
              "dtype: int64"
            ]
          },
          "execution_count": 24,
          "metadata": {},
          "output_type": "execute_result"
        }
      ],
      "source": [
        "df.isna().sum()"
      ]
    },
    {
      "cell_type": "code",
      "execution_count": 25,
      "metadata": {
        "colab": {
          "base_uri": "https://localhost:8080/"
        },
        "id": "mj8YhM5whE4B",
        "outputId": "24def2d5-ae95-4d73-98c0-a716553d1ebc"
      },
      "outputs": [
        {
          "data": {
            "text/plain": [
              "Disease          0\n",
              "Symptom_1        0\n",
              "Symptom_2        0\n",
              "Symptom_3        0\n",
              "Symptom_4      348\n",
              "Symptom_5     1206\n",
              "Symptom_6     1986\n",
              "Symptom_7     2652\n",
              "Symptom_8     2976\n",
              "Symptom_9     3228\n",
              "Symptom_10    3408\n",
              "Symptom_11    3726\n",
              "Symptom_12    4176\n",
              "Symptom_13    4416\n",
              "Symptom_14    4614\n",
              "Symptom_15    4680\n",
              "Symptom_16    4728\n",
              "Symptom_17    4848\n",
              "dtype: int64"
            ]
          },
          "execution_count": 25,
          "metadata": {},
          "output_type": "execute_result"
        }
      ],
      "source": [
        "df.isnull().sum()"
      ]
    },
    {
      "cell_type": "markdown",
      "metadata": {
        "id": "PCaD3P_shSbV"
      },
      "source": [
        "Remove the trailing space from the symptom columns\n"
      ]
    },
    {
      "cell_type": "code",
      "execution_count": 26,
      "metadata": {
        "colab": {
          "base_uri": "https://localhost:8080/",
          "height": 357
        },
        "id": "sHsRCvPuhL6Q",
        "outputId": "42fdb481-be19-45a9-8f84-eb3dba42d333"
      },
      "outputs": [
        {
          "data": {
            "text/html": [
              "<div>\n",
              "<style scoped>\n",
              "    .dataframe tbody tr th:only-of-type {\n",
              "        vertical-align: middle;\n",
              "    }\n",
              "\n",
              "    .dataframe tbody tr th {\n",
              "        vertical-align: top;\n",
              "    }\n",
              "\n",
              "    .dataframe thead th {\n",
              "        text-align: right;\n",
              "    }\n",
              "</style>\n",
              "<table border=\"1\" class=\"dataframe\">\n",
              "  <thead>\n",
              "    <tr style=\"text-align: right;\">\n",
              "      <th></th>\n",
              "      <th>Disease</th>\n",
              "      <th>Symptom_1</th>\n",
              "      <th>Symptom_2</th>\n",
              "      <th>Symptom_3</th>\n",
              "      <th>Symptom_4</th>\n",
              "      <th>Symptom_5</th>\n",
              "      <th>Symptom_6</th>\n",
              "      <th>Symptom_7</th>\n",
              "      <th>Symptom_8</th>\n",
              "      <th>Symptom_9</th>\n",
              "      <th>Symptom_10</th>\n",
              "      <th>Symptom_11</th>\n",
              "      <th>Symptom_12</th>\n",
              "      <th>Symptom_13</th>\n",
              "      <th>Symptom_14</th>\n",
              "      <th>Symptom_15</th>\n",
              "      <th>Symptom_16</th>\n",
              "      <th>Symptom_17</th>\n",
              "    </tr>\n",
              "  </thead>\n",
              "  <tbody>\n",
              "    <tr>\n",
              "      <th>0</th>\n",
              "      <td>Fungal infection</td>\n",
              "      <td>itching</td>\n",
              "      <td>skin_rash</td>\n",
              "      <td>nodal_skin_eruptions</td>\n",
              "      <td>dischromic _patches</td>\n",
              "      <td>NaN</td>\n",
              "      <td>NaN</td>\n",
              "      <td>NaN</td>\n",
              "      <td>NaN</td>\n",
              "      <td>NaN</td>\n",
              "      <td>NaN</td>\n",
              "      <td>NaN</td>\n",
              "      <td>NaN</td>\n",
              "      <td>NaN</td>\n",
              "      <td>NaN</td>\n",
              "      <td>NaN</td>\n",
              "      <td>NaN</td>\n",
              "      <td>NaN</td>\n",
              "    </tr>\n",
              "    <tr>\n",
              "      <th>1</th>\n",
              "      <td>Fungal infection</td>\n",
              "      <td>skin_rash</td>\n",
              "      <td>nodal_skin_eruptions</td>\n",
              "      <td>dischromic _patches</td>\n",
              "      <td>NaN</td>\n",
              "      <td>NaN</td>\n",
              "      <td>NaN</td>\n",
              "      <td>NaN</td>\n",
              "      <td>NaN</td>\n",
              "      <td>NaN</td>\n",
              "      <td>NaN</td>\n",
              "      <td>NaN</td>\n",
              "      <td>NaN</td>\n",
              "      <td>NaN</td>\n",
              "      <td>NaN</td>\n",
              "      <td>NaN</td>\n",
              "      <td>NaN</td>\n",
              "      <td>NaN</td>\n",
              "    </tr>\n",
              "    <tr>\n",
              "      <th>2</th>\n",
              "      <td>Fungal infection</td>\n",
              "      <td>itching</td>\n",
              "      <td>nodal_skin_eruptions</td>\n",
              "      <td>dischromic _patches</td>\n",
              "      <td>NaN</td>\n",
              "      <td>NaN</td>\n",
              "      <td>NaN</td>\n",
              "      <td>NaN</td>\n",
              "      <td>NaN</td>\n",
              "      <td>NaN</td>\n",
              "      <td>NaN</td>\n",
              "      <td>NaN</td>\n",
              "      <td>NaN</td>\n",
              "      <td>NaN</td>\n",
              "      <td>NaN</td>\n",
              "      <td>NaN</td>\n",
              "      <td>NaN</td>\n",
              "      <td>NaN</td>\n",
              "    </tr>\n",
              "    <tr>\n",
              "      <th>3</th>\n",
              "      <td>Fungal infection</td>\n",
              "      <td>itching</td>\n",
              "      <td>skin_rash</td>\n",
              "      <td>dischromic _patches</td>\n",
              "      <td>NaN</td>\n",
              "      <td>NaN</td>\n",
              "      <td>NaN</td>\n",
              "      <td>NaN</td>\n",
              "      <td>NaN</td>\n",
              "      <td>NaN</td>\n",
              "      <td>NaN</td>\n",
              "      <td>NaN</td>\n",
              "      <td>NaN</td>\n",
              "      <td>NaN</td>\n",
              "      <td>NaN</td>\n",
              "      <td>NaN</td>\n",
              "      <td>NaN</td>\n",
              "      <td>NaN</td>\n",
              "    </tr>\n",
              "    <tr>\n",
              "      <th>4</th>\n",
              "      <td>Fungal infection</td>\n",
              "      <td>itching</td>\n",
              "      <td>skin_rash</td>\n",
              "      <td>nodal_skin_eruptions</td>\n",
              "      <td>NaN</td>\n",
              "      <td>NaN</td>\n",
              "      <td>NaN</td>\n",
              "      <td>NaN</td>\n",
              "      <td>NaN</td>\n",
              "      <td>NaN</td>\n",
              "      <td>NaN</td>\n",
              "      <td>NaN</td>\n",
              "      <td>NaN</td>\n",
              "      <td>NaN</td>\n",
              "      <td>NaN</td>\n",
              "      <td>NaN</td>\n",
              "      <td>NaN</td>\n",
              "      <td>NaN</td>\n",
              "    </tr>\n",
              "  </tbody>\n",
              "</table>\n",
              "</div>"
            ],
            "text/plain": [
              "            Disease  Symptom_1             Symptom_2             Symptom_3  \\\n",
              "0  Fungal infection    itching             skin_rash  nodal_skin_eruptions   \n",
              "1  Fungal infection  skin_rash  nodal_skin_eruptions   dischromic _patches   \n",
              "2  Fungal infection    itching  nodal_skin_eruptions   dischromic _patches   \n",
              "3  Fungal infection    itching             skin_rash   dischromic _patches   \n",
              "4  Fungal infection    itching             skin_rash  nodal_skin_eruptions   \n",
              "\n",
              "             Symptom_4 Symptom_5 Symptom_6 Symptom_7 Symptom_8 Symptom_9  \\\n",
              "0  dischromic _patches       NaN       NaN       NaN       NaN       NaN   \n",
              "1                  NaN       NaN       NaN       NaN       NaN       NaN   \n",
              "2                  NaN       NaN       NaN       NaN       NaN       NaN   \n",
              "3                  NaN       NaN       NaN       NaN       NaN       NaN   \n",
              "4                  NaN       NaN       NaN       NaN       NaN       NaN   \n",
              "\n",
              "  Symptom_10 Symptom_11 Symptom_12 Symptom_13 Symptom_14 Symptom_15  \\\n",
              "0        NaN        NaN        NaN        NaN        NaN        NaN   \n",
              "1        NaN        NaN        NaN        NaN        NaN        NaN   \n",
              "2        NaN        NaN        NaN        NaN        NaN        NaN   \n",
              "3        NaN        NaN        NaN        NaN        NaN        NaN   \n",
              "4        NaN        NaN        NaN        NaN        NaN        NaN   \n",
              "\n",
              "  Symptom_16 Symptom_17  \n",
              "0        NaN        NaN  \n",
              "1        NaN        NaN  \n",
              "2        NaN        NaN  \n",
              "3        NaN        NaN  \n",
              "4        NaN        NaN  "
            ]
          },
          "execution_count": 26,
          "metadata": {},
          "output_type": "execute_result"
        }
      ],
      "source": [
        "cols = df.columns\n",
        "data = df[cols].values.flatten()\n",
        "\n",
        "s = pd.Series(data)\n",
        "s = s.str.strip()\n",
        "s = s.values.reshape(df.shape)\n",
        "\n",
        "df = pd.DataFrame(s, columns=df.columns)\n",
        "df.head()"
      ]
    },
    {
      "cell_type": "markdown",
      "metadata": {
        "id": "MyQSHXx2hWlZ"
      },
      "source": [
        "Fill the NaN values with zero\n"
      ]
    },
    {
      "cell_type": "code",
      "execution_count": 27,
      "metadata": {
        "colab": {
          "base_uri": "https://localhost:8080/",
          "height": 357
        },
        "id": "vvjCTXbIhPEu",
        "outputId": "f48ea468-3b7a-4d5b-ebcb-a29b74a2efc0"
      },
      "outputs": [
        {
          "data": {
            "text/html": [
              "<div>\n",
              "<style scoped>\n",
              "    .dataframe tbody tr th:only-of-type {\n",
              "        vertical-align: middle;\n",
              "    }\n",
              "\n",
              "    .dataframe tbody tr th {\n",
              "        vertical-align: top;\n",
              "    }\n",
              "\n",
              "    .dataframe thead th {\n",
              "        text-align: right;\n",
              "    }\n",
              "</style>\n",
              "<table border=\"1\" class=\"dataframe\">\n",
              "  <thead>\n",
              "    <tr style=\"text-align: right;\">\n",
              "      <th></th>\n",
              "      <th>Disease</th>\n",
              "      <th>Symptom_1</th>\n",
              "      <th>Symptom_2</th>\n",
              "      <th>Symptom_3</th>\n",
              "      <th>Symptom_4</th>\n",
              "      <th>Symptom_5</th>\n",
              "      <th>Symptom_6</th>\n",
              "      <th>Symptom_7</th>\n",
              "      <th>Symptom_8</th>\n",
              "      <th>Symptom_9</th>\n",
              "      <th>Symptom_10</th>\n",
              "      <th>Symptom_11</th>\n",
              "      <th>Symptom_12</th>\n",
              "      <th>Symptom_13</th>\n",
              "      <th>Symptom_14</th>\n",
              "      <th>Symptom_15</th>\n",
              "      <th>Symptom_16</th>\n",
              "      <th>Symptom_17</th>\n",
              "    </tr>\n",
              "  </thead>\n",
              "  <tbody>\n",
              "    <tr>\n",
              "      <th>0</th>\n",
              "      <td>Fungal infection</td>\n",
              "      <td>itching</td>\n",
              "      <td>skin_rash</td>\n",
              "      <td>nodal_skin_eruptions</td>\n",
              "      <td>dischromic _patches</td>\n",
              "      <td>0</td>\n",
              "      <td>0</td>\n",
              "      <td>0</td>\n",
              "      <td>0</td>\n",
              "      <td>0</td>\n",
              "      <td>0</td>\n",
              "      <td>0</td>\n",
              "      <td>0</td>\n",
              "      <td>0</td>\n",
              "      <td>0</td>\n",
              "      <td>0</td>\n",
              "      <td>0</td>\n",
              "      <td>0</td>\n",
              "    </tr>\n",
              "    <tr>\n",
              "      <th>1</th>\n",
              "      <td>Fungal infection</td>\n",
              "      <td>skin_rash</td>\n",
              "      <td>nodal_skin_eruptions</td>\n",
              "      <td>dischromic _patches</td>\n",
              "      <td>0</td>\n",
              "      <td>0</td>\n",
              "      <td>0</td>\n",
              "      <td>0</td>\n",
              "      <td>0</td>\n",
              "      <td>0</td>\n",
              "      <td>0</td>\n",
              "      <td>0</td>\n",
              "      <td>0</td>\n",
              "      <td>0</td>\n",
              "      <td>0</td>\n",
              "      <td>0</td>\n",
              "      <td>0</td>\n",
              "      <td>0</td>\n",
              "    </tr>\n",
              "    <tr>\n",
              "      <th>2</th>\n",
              "      <td>Fungal infection</td>\n",
              "      <td>itching</td>\n",
              "      <td>nodal_skin_eruptions</td>\n",
              "      <td>dischromic _patches</td>\n",
              "      <td>0</td>\n",
              "      <td>0</td>\n",
              "      <td>0</td>\n",
              "      <td>0</td>\n",
              "      <td>0</td>\n",
              "      <td>0</td>\n",
              "      <td>0</td>\n",
              "      <td>0</td>\n",
              "      <td>0</td>\n",
              "      <td>0</td>\n",
              "      <td>0</td>\n",
              "      <td>0</td>\n",
              "      <td>0</td>\n",
              "      <td>0</td>\n",
              "    </tr>\n",
              "    <tr>\n",
              "      <th>3</th>\n",
              "      <td>Fungal infection</td>\n",
              "      <td>itching</td>\n",
              "      <td>skin_rash</td>\n",
              "      <td>dischromic _patches</td>\n",
              "      <td>0</td>\n",
              "      <td>0</td>\n",
              "      <td>0</td>\n",
              "      <td>0</td>\n",
              "      <td>0</td>\n",
              "      <td>0</td>\n",
              "      <td>0</td>\n",
              "      <td>0</td>\n",
              "      <td>0</td>\n",
              "      <td>0</td>\n",
              "      <td>0</td>\n",
              "      <td>0</td>\n",
              "      <td>0</td>\n",
              "      <td>0</td>\n",
              "    </tr>\n",
              "    <tr>\n",
              "      <th>4</th>\n",
              "      <td>Fungal infection</td>\n",
              "      <td>itching</td>\n",
              "      <td>skin_rash</td>\n",
              "      <td>nodal_skin_eruptions</td>\n",
              "      <td>0</td>\n",
              "      <td>0</td>\n",
              "      <td>0</td>\n",
              "      <td>0</td>\n",
              "      <td>0</td>\n",
              "      <td>0</td>\n",
              "      <td>0</td>\n",
              "      <td>0</td>\n",
              "      <td>0</td>\n",
              "      <td>0</td>\n",
              "      <td>0</td>\n",
              "      <td>0</td>\n",
              "      <td>0</td>\n",
              "      <td>0</td>\n",
              "    </tr>\n",
              "  </tbody>\n",
              "</table>\n",
              "</div>"
            ],
            "text/plain": [
              "            Disease  Symptom_1             Symptom_2             Symptom_3  \\\n",
              "0  Fungal infection    itching             skin_rash  nodal_skin_eruptions   \n",
              "1  Fungal infection  skin_rash  nodal_skin_eruptions   dischromic _patches   \n",
              "2  Fungal infection    itching  nodal_skin_eruptions   dischromic _patches   \n",
              "3  Fungal infection    itching             skin_rash   dischromic _patches   \n",
              "4  Fungal infection    itching             skin_rash  nodal_skin_eruptions   \n",
              "\n",
              "             Symptom_4 Symptom_5 Symptom_6 Symptom_7 Symptom_8 Symptom_9  \\\n",
              "0  dischromic _patches         0         0         0         0         0   \n",
              "1                    0         0         0         0         0         0   \n",
              "2                    0         0         0         0         0         0   \n",
              "3                    0         0         0         0         0         0   \n",
              "4                    0         0         0         0         0         0   \n",
              "\n",
              "  Symptom_10 Symptom_11 Symptom_12 Symptom_13 Symptom_14 Symptom_15  \\\n",
              "0          0          0          0          0          0          0   \n",
              "1          0          0          0          0          0          0   \n",
              "2          0          0          0          0          0          0   \n",
              "3          0          0          0          0          0          0   \n",
              "4          0          0          0          0          0          0   \n",
              "\n",
              "  Symptom_16 Symptom_17  \n",
              "0          0          0  \n",
              "1          0          0  \n",
              "2          0          0  \n",
              "3          0          0  \n",
              "4          0          0  "
            ]
          },
          "execution_count": 27,
          "metadata": {},
          "output_type": "execute_result"
        }
      ],
      "source": [
        "df = df.fillna(0)\n",
        "df.head()"
      ]
    },
    {
      "cell_type": "markdown",
      "metadata": {
        "id": "ft6QzRk8h7IT"
      },
      "source": [
        "Symptom severity rank\n",
        "\n"
      ]
    },
    {
      "cell_type": "code",
      "execution_count": 28,
      "metadata": {
        "colab": {
          "base_uri": "https://localhost:8080/",
          "height": 206
        },
        "id": "iqToRH-Th8Bz",
        "outputId": "50cad18d-3b83-4a8f-80f3-5a61d57cfcdb"
      },
      "outputs": [
        {
          "data": {
            "text/html": [
              "<div>\n",
              "<style scoped>\n",
              "    .dataframe tbody tr th:only-of-type {\n",
              "        vertical-align: middle;\n",
              "    }\n",
              "\n",
              "    .dataframe tbody tr th {\n",
              "        vertical-align: top;\n",
              "    }\n",
              "\n",
              "    .dataframe thead th {\n",
              "        text-align: right;\n",
              "    }\n",
              "</style>\n",
              "<table border=\"1\" class=\"dataframe\">\n",
              "  <thead>\n",
              "    <tr style=\"text-align: right;\">\n",
              "      <th></th>\n",
              "      <th>Symptom</th>\n",
              "      <th>weight</th>\n",
              "    </tr>\n",
              "  </thead>\n",
              "  <tbody>\n",
              "    <tr>\n",
              "      <th>0</th>\n",
              "      <td>itching</td>\n",
              "      <td>1</td>\n",
              "    </tr>\n",
              "    <tr>\n",
              "      <th>1</th>\n",
              "      <td>skin_rash</td>\n",
              "      <td>3</td>\n",
              "    </tr>\n",
              "    <tr>\n",
              "      <th>2</th>\n",
              "      <td>nodal_skin_eruptions</td>\n",
              "      <td>4</td>\n",
              "    </tr>\n",
              "    <tr>\n",
              "      <th>3</th>\n",
              "      <td>continuous_sneezing</td>\n",
              "      <td>4</td>\n",
              "    </tr>\n",
              "    <tr>\n",
              "      <th>4</th>\n",
              "      <td>shivering</td>\n",
              "      <td>5</td>\n",
              "    </tr>\n",
              "  </tbody>\n",
              "</table>\n",
              "</div>"
            ],
            "text/plain": [
              "                Symptom  weight\n",
              "0               itching       1\n",
              "1             skin_rash       3\n",
              "2  nodal_skin_eruptions       4\n",
              "3   continuous_sneezing       4\n",
              "4             shivering       5"
            ]
          },
          "execution_count": 28,
          "metadata": {},
          "output_type": "execute_result"
        }
      ],
      "source": [
        "df1 = pd.read_csv('../datasets/Symptom-severity.csv')\n",
        "df1.head()"
      ]
    },
    {
      "cell_type": "markdown",
      "metadata": {
        "id": "Ntkro5pAh_CJ"
      },
      "source": [
        "Get overall list of symptoms\n",
        "\n"
      ]
    },
    {
      "cell_type": "code",
      "execution_count": 29,
      "metadata": {
        "colab": {
          "base_uri": "https://localhost:8080/"
        },
        "id": "GehDGm23iAXI",
        "outputId": "36f6574f-6929-4d6a-ca41-46cb4ee95c64"
      },
      "outputs": [
        {
          "data": {
            "text/plain": [
              "array(['itching', 'skin_rash', 'nodal_skin_eruptions',\n",
              "       'continuous_sneezing', 'shivering', 'chills', 'joint_pain',\n",
              "       'stomach_pain', 'acidity', 'ulcers_on_tongue', 'muscle_wasting',\n",
              "       'vomiting', 'burning_micturition', 'spotting_urination', 'fatigue',\n",
              "       'weight_gain', 'anxiety', 'cold_hands_and_feets', 'mood_swings',\n",
              "       'weight_loss', 'restlessness', 'lethargy', 'patches_in_throat',\n",
              "       'irregular_sugar_level', 'cough', 'high_fever', 'sunken_eyes',\n",
              "       'breathlessness', 'sweating', 'dehydration', 'indigestion',\n",
              "       'headache', 'yellowish_skin', 'dark_urine', 'nausea',\n",
              "       'loss_of_appetite', 'pain_behind_the_eyes', 'back_pain',\n",
              "       'constipation', 'abdominal_pain', 'diarrhoea', 'mild_fever',\n",
              "       'yellow_urine', 'yellowing_of_eyes', 'acute_liver_failure',\n",
              "       'fluid_overload', 'swelling_of_stomach', 'swelled_lymph_nodes',\n",
              "       'malaise', 'blurred_and_distorted_vision', 'phlegm',\n",
              "       'throat_irritation', 'redness_of_eyes', 'sinus_pressure',\n",
              "       'runny_nose', 'congestion', 'chest_pain', 'weakness_in_limbs',\n",
              "       'fast_heart_rate', 'pain_during_bowel_movements',\n",
              "       'pain_in_anal_region', 'bloody_stool', 'irritation_in_anus',\n",
              "       'neck_pain', 'dizziness', 'cramps', 'bruising', 'obesity',\n",
              "       'swollen_legs', 'swollen_blood_vessels', 'puffy_face_and_eyes',\n",
              "       'enlarged_thyroid', 'brittle_nails', 'swollen_extremeties',\n",
              "       'excessive_hunger', 'extra_marital_contacts',\n",
              "       'drying_and_tingling_lips', 'slurred_speech', 'knee_pain',\n",
              "       'hip_joint_pain', 'muscle_weakness', 'stiff_neck',\n",
              "       'swelling_joints', 'movement_stiffness', 'spinning_movements',\n",
              "       'loss_of_balance', 'unsteadiness', 'weakness_of_one_body_side',\n",
              "       'loss_of_smell', 'bladder_discomfort', 'foul_smell_ofurine',\n",
              "       'continuous_feel_of_urine', 'passage_of_gases', 'internal_itching',\n",
              "       'toxic_look_(typhos)', 'depression', 'irritability', 'muscle_pain',\n",
              "       'altered_sensorium', 'red_spots_over_body', 'belly_pain',\n",
              "       'abnormal_menstruation', 'dischromic_patches',\n",
              "       'watering_from_eyes', 'increased_appetite', 'polyuria',\n",
              "       'family_history', 'mucoid_sputum', 'rusty_sputum',\n",
              "       'lack_of_concentration', 'visual_disturbances',\n",
              "       'receiving_blood_transfusion', 'receiving_unsterile_injections',\n",
              "       'coma', 'stomach_bleeding', 'distention_of_abdomen',\n",
              "       'history_of_alcohol_consumption', 'blood_in_sputum',\n",
              "       'prominent_veins_on_calf', 'palpitations', 'painful_walking',\n",
              "       'pus_filled_pimples', 'blackheads', 'scurring', 'skin_peeling',\n",
              "       'silver_like_dusting', 'small_dents_in_nails',\n",
              "       'inflammatory_nails', 'blister', 'red_sore_around_nose',\n",
              "       'yellow_crust_ooze', 'prognosis'], dtype=object)"
            ]
          },
          "execution_count": 29,
          "metadata": {},
          "output_type": "execute_result"
        }
      ],
      "source": [
        "df1['Symptom'].unique()"
      ]
    },
    {
      "cell_type": "markdown",
      "metadata": {
        "id": "ZiACvj4miGgk"
      },
      "source": [
        "Encode symptoms in the data with the symptom rank\n",
        "\n"
      ]
    },
    {
      "cell_type": "code",
      "execution_count": 30,
      "metadata": {
        "colab": {
          "base_uri": "https://localhost:8080/",
          "height": 357
        },
        "id": "Oh_XgLg2iHr7",
        "outputId": "ebd05f04-e150-48b3-ee30-3c5b1f267147"
      },
      "outputs": [
        {
          "data": {
            "text/html": [
              "<div>\n",
              "<style scoped>\n",
              "    .dataframe tbody tr th:only-of-type {\n",
              "        vertical-align: middle;\n",
              "    }\n",
              "\n",
              "    .dataframe tbody tr th {\n",
              "        vertical-align: top;\n",
              "    }\n",
              "\n",
              "    .dataframe thead th {\n",
              "        text-align: right;\n",
              "    }\n",
              "</style>\n",
              "<table border=\"1\" class=\"dataframe\">\n",
              "  <thead>\n",
              "    <tr style=\"text-align: right;\">\n",
              "      <th></th>\n",
              "      <th>Disease</th>\n",
              "      <th>Symptom_1</th>\n",
              "      <th>Symptom_2</th>\n",
              "      <th>Symptom_3</th>\n",
              "      <th>Symptom_4</th>\n",
              "      <th>Symptom_5</th>\n",
              "      <th>Symptom_6</th>\n",
              "      <th>Symptom_7</th>\n",
              "      <th>Symptom_8</th>\n",
              "      <th>Symptom_9</th>\n",
              "      <th>Symptom_10</th>\n",
              "      <th>Symptom_11</th>\n",
              "      <th>Symptom_12</th>\n",
              "      <th>Symptom_13</th>\n",
              "      <th>Symptom_14</th>\n",
              "      <th>Symptom_15</th>\n",
              "      <th>Symptom_16</th>\n",
              "      <th>Symptom_17</th>\n",
              "    </tr>\n",
              "  </thead>\n",
              "  <tbody>\n",
              "    <tr>\n",
              "      <th>0</th>\n",
              "      <td>Fungal infection</td>\n",
              "      <td>1</td>\n",
              "      <td>3</td>\n",
              "      <td>4</td>\n",
              "      <td>dischromic _patches</td>\n",
              "      <td>0</td>\n",
              "      <td>0</td>\n",
              "      <td>0</td>\n",
              "      <td>0</td>\n",
              "      <td>0</td>\n",
              "      <td>0</td>\n",
              "      <td>0</td>\n",
              "      <td>0</td>\n",
              "      <td>0</td>\n",
              "      <td>0</td>\n",
              "      <td>0</td>\n",
              "      <td>0</td>\n",
              "      <td>0</td>\n",
              "    </tr>\n",
              "    <tr>\n",
              "      <th>1</th>\n",
              "      <td>Fungal infection</td>\n",
              "      <td>3</td>\n",
              "      <td>4</td>\n",
              "      <td>dischromic _patches</td>\n",
              "      <td>0</td>\n",
              "      <td>0</td>\n",
              "      <td>0</td>\n",
              "      <td>0</td>\n",
              "      <td>0</td>\n",
              "      <td>0</td>\n",
              "      <td>0</td>\n",
              "      <td>0</td>\n",
              "      <td>0</td>\n",
              "      <td>0</td>\n",
              "      <td>0</td>\n",
              "      <td>0</td>\n",
              "      <td>0</td>\n",
              "      <td>0</td>\n",
              "    </tr>\n",
              "    <tr>\n",
              "      <th>2</th>\n",
              "      <td>Fungal infection</td>\n",
              "      <td>1</td>\n",
              "      <td>4</td>\n",
              "      <td>dischromic _patches</td>\n",
              "      <td>0</td>\n",
              "      <td>0</td>\n",
              "      <td>0</td>\n",
              "      <td>0</td>\n",
              "      <td>0</td>\n",
              "      <td>0</td>\n",
              "      <td>0</td>\n",
              "      <td>0</td>\n",
              "      <td>0</td>\n",
              "      <td>0</td>\n",
              "      <td>0</td>\n",
              "      <td>0</td>\n",
              "      <td>0</td>\n",
              "      <td>0</td>\n",
              "    </tr>\n",
              "    <tr>\n",
              "      <th>3</th>\n",
              "      <td>Fungal infection</td>\n",
              "      <td>1</td>\n",
              "      <td>3</td>\n",
              "      <td>dischromic _patches</td>\n",
              "      <td>0</td>\n",
              "      <td>0</td>\n",
              "      <td>0</td>\n",
              "      <td>0</td>\n",
              "      <td>0</td>\n",
              "      <td>0</td>\n",
              "      <td>0</td>\n",
              "      <td>0</td>\n",
              "      <td>0</td>\n",
              "      <td>0</td>\n",
              "      <td>0</td>\n",
              "      <td>0</td>\n",
              "      <td>0</td>\n",
              "      <td>0</td>\n",
              "    </tr>\n",
              "    <tr>\n",
              "      <th>4</th>\n",
              "      <td>Fungal infection</td>\n",
              "      <td>1</td>\n",
              "      <td>3</td>\n",
              "      <td>4</td>\n",
              "      <td>0</td>\n",
              "      <td>0</td>\n",
              "      <td>0</td>\n",
              "      <td>0</td>\n",
              "      <td>0</td>\n",
              "      <td>0</td>\n",
              "      <td>0</td>\n",
              "      <td>0</td>\n",
              "      <td>0</td>\n",
              "      <td>0</td>\n",
              "      <td>0</td>\n",
              "      <td>0</td>\n",
              "      <td>0</td>\n",
              "      <td>0</td>\n",
              "    </tr>\n",
              "  </tbody>\n",
              "</table>\n",
              "</div>"
            ],
            "text/plain": [
              "            Disease Symptom_1 Symptom_2            Symptom_3  \\\n",
              "0  Fungal infection         1         3                    4   \n",
              "1  Fungal infection         3         4  dischromic _patches   \n",
              "2  Fungal infection         1         4  dischromic _patches   \n",
              "3  Fungal infection         1         3  dischromic _patches   \n",
              "4  Fungal infection         1         3                    4   \n",
              "\n",
              "             Symptom_4 Symptom_5 Symptom_6 Symptom_7 Symptom_8 Symptom_9  \\\n",
              "0  dischromic _patches         0         0         0         0         0   \n",
              "1                    0         0         0         0         0         0   \n",
              "2                    0         0         0         0         0         0   \n",
              "3                    0         0         0         0         0         0   \n",
              "4                    0         0         0         0         0         0   \n",
              "\n",
              "  Symptom_10 Symptom_11 Symptom_12 Symptom_13 Symptom_14 Symptom_15  \\\n",
              "0          0          0          0          0          0          0   \n",
              "1          0          0          0          0          0          0   \n",
              "2          0          0          0          0          0          0   \n",
              "3          0          0          0          0          0          0   \n",
              "4          0          0          0          0          0          0   \n",
              "\n",
              "  Symptom_16 Symptom_17  \n",
              "0          0          0  \n",
              "1          0          0  \n",
              "2          0          0  \n",
              "3          0          0  \n",
              "4          0          0  "
            ]
          },
          "execution_count": 30,
          "metadata": {},
          "output_type": "execute_result"
        }
      ],
      "source": [
        "vals = df.values\n",
        "symptoms = df1['Symptom'].unique()\n",
        "\n",
        "for i in range(len(symptoms)):\n",
        "    vals[vals == symptoms[i]] = df1[df1['Symptom'] == symptoms[i]]['weight'].values[0]\n",
        "    \n",
        "d = pd.DataFrame(vals, columns=cols)\n",
        "d.head()"
      ]
    },
    {
      "cell_type": "markdown",
      "metadata": {
        "id": "mwvgFQqyiMeX"
      },
      "source": [
        "Assign symptoms with no rank to zero\n",
        "\n"
      ]
    },
    {
      "cell_type": "code",
      "execution_count": 31,
      "metadata": {
        "colab": {
          "base_uri": "https://localhost:8080/",
          "height": 357
        },
        "id": "0FXIHpm8iNYS",
        "outputId": "5a51fa00-5da9-4f9c-c782-581381759dcc"
      },
      "outputs": [
        {
          "data": {
            "text/html": [
              "<div>\n",
              "<style scoped>\n",
              "    .dataframe tbody tr th:only-of-type {\n",
              "        vertical-align: middle;\n",
              "    }\n",
              "\n",
              "    .dataframe tbody tr th {\n",
              "        vertical-align: top;\n",
              "    }\n",
              "\n",
              "    .dataframe thead th {\n",
              "        text-align: right;\n",
              "    }\n",
              "</style>\n",
              "<table border=\"1\" class=\"dataframe\">\n",
              "  <thead>\n",
              "    <tr style=\"text-align: right;\">\n",
              "      <th></th>\n",
              "      <th>Disease</th>\n",
              "      <th>Symptom_1</th>\n",
              "      <th>Symptom_2</th>\n",
              "      <th>Symptom_3</th>\n",
              "      <th>Symptom_4</th>\n",
              "      <th>Symptom_5</th>\n",
              "      <th>Symptom_6</th>\n",
              "      <th>Symptom_7</th>\n",
              "      <th>Symptom_8</th>\n",
              "      <th>Symptom_9</th>\n",
              "      <th>Symptom_10</th>\n",
              "      <th>Symptom_11</th>\n",
              "      <th>Symptom_12</th>\n",
              "      <th>Symptom_13</th>\n",
              "      <th>Symptom_14</th>\n",
              "      <th>Symptom_15</th>\n",
              "      <th>Symptom_16</th>\n",
              "      <th>Symptom_17</th>\n",
              "    </tr>\n",
              "  </thead>\n",
              "  <tbody>\n",
              "    <tr>\n",
              "      <th>0</th>\n",
              "      <td>Fungal infection</td>\n",
              "      <td>1</td>\n",
              "      <td>3</td>\n",
              "      <td>4</td>\n",
              "      <td>0</td>\n",
              "      <td>0</td>\n",
              "      <td>0</td>\n",
              "      <td>0</td>\n",
              "      <td>0</td>\n",
              "      <td>0</td>\n",
              "      <td>0</td>\n",
              "      <td>0</td>\n",
              "      <td>0</td>\n",
              "      <td>0</td>\n",
              "      <td>0</td>\n",
              "      <td>0</td>\n",
              "      <td>0</td>\n",
              "      <td>0</td>\n",
              "    </tr>\n",
              "    <tr>\n",
              "      <th>1</th>\n",
              "      <td>Fungal infection</td>\n",
              "      <td>3</td>\n",
              "      <td>4</td>\n",
              "      <td>0</td>\n",
              "      <td>0</td>\n",
              "      <td>0</td>\n",
              "      <td>0</td>\n",
              "      <td>0</td>\n",
              "      <td>0</td>\n",
              "      <td>0</td>\n",
              "      <td>0</td>\n",
              "      <td>0</td>\n",
              "      <td>0</td>\n",
              "      <td>0</td>\n",
              "      <td>0</td>\n",
              "      <td>0</td>\n",
              "      <td>0</td>\n",
              "      <td>0</td>\n",
              "    </tr>\n",
              "    <tr>\n",
              "      <th>2</th>\n",
              "      <td>Fungal infection</td>\n",
              "      <td>1</td>\n",
              "      <td>4</td>\n",
              "      <td>0</td>\n",
              "      <td>0</td>\n",
              "      <td>0</td>\n",
              "      <td>0</td>\n",
              "      <td>0</td>\n",
              "      <td>0</td>\n",
              "      <td>0</td>\n",
              "      <td>0</td>\n",
              "      <td>0</td>\n",
              "      <td>0</td>\n",
              "      <td>0</td>\n",
              "      <td>0</td>\n",
              "      <td>0</td>\n",
              "      <td>0</td>\n",
              "      <td>0</td>\n",
              "    </tr>\n",
              "    <tr>\n",
              "      <th>3</th>\n",
              "      <td>Fungal infection</td>\n",
              "      <td>1</td>\n",
              "      <td>3</td>\n",
              "      <td>0</td>\n",
              "      <td>0</td>\n",
              "      <td>0</td>\n",
              "      <td>0</td>\n",
              "      <td>0</td>\n",
              "      <td>0</td>\n",
              "      <td>0</td>\n",
              "      <td>0</td>\n",
              "      <td>0</td>\n",
              "      <td>0</td>\n",
              "      <td>0</td>\n",
              "      <td>0</td>\n",
              "      <td>0</td>\n",
              "      <td>0</td>\n",
              "      <td>0</td>\n",
              "    </tr>\n",
              "    <tr>\n",
              "      <th>4</th>\n",
              "      <td>Fungal infection</td>\n",
              "      <td>1</td>\n",
              "      <td>3</td>\n",
              "      <td>4</td>\n",
              "      <td>0</td>\n",
              "      <td>0</td>\n",
              "      <td>0</td>\n",
              "      <td>0</td>\n",
              "      <td>0</td>\n",
              "      <td>0</td>\n",
              "      <td>0</td>\n",
              "      <td>0</td>\n",
              "      <td>0</td>\n",
              "      <td>0</td>\n",
              "      <td>0</td>\n",
              "      <td>0</td>\n",
              "      <td>0</td>\n",
              "      <td>0</td>\n",
              "    </tr>\n",
              "  </tbody>\n",
              "</table>\n",
              "</div>"
            ],
            "text/plain": [
              "            Disease  Symptom_1  Symptom_2  Symptom_3  Symptom_4  Symptom_5  \\\n",
              "0  Fungal infection          1          3          4          0          0   \n",
              "1  Fungal infection          3          4          0          0          0   \n",
              "2  Fungal infection          1          4          0          0          0   \n",
              "3  Fungal infection          1          3          0          0          0   \n",
              "4  Fungal infection          1          3          4          0          0   \n",
              "\n",
              "   Symptom_6  Symptom_7  Symptom_8  Symptom_9  Symptom_10  Symptom_11  \\\n",
              "0          0          0          0          0           0           0   \n",
              "1          0          0          0          0           0           0   \n",
              "2          0          0          0          0           0           0   \n",
              "3          0          0          0          0           0           0   \n",
              "4          0          0          0          0           0           0   \n",
              "\n",
              "   Symptom_12  Symptom_13  Symptom_14  Symptom_15  Symptom_16  Symptom_17  \n",
              "0           0           0           0           0           0           0  \n",
              "1           0           0           0           0           0           0  \n",
              "2           0           0           0           0           0           0  \n",
              "3           0           0           0           0           0           0  \n",
              "4           0           0           0           0           0           0  "
            ]
          },
          "execution_count": 31,
          "metadata": {},
          "output_type": "execute_result"
        }
      ],
      "source": [
        "d = d.replace('dischromic _patches', 0)\n",
        "d = d.replace('spotting_ urination',0)\n",
        "df = d.replace('foul_smell_of urine',0)\n",
        "df.head()"
      ]
    },
    {
      "cell_type": "markdown",
      "metadata": {
        "id": "MxRT-65FiRUE"
      },
      "source": [
        "Check if entire columns have zero values so we can drop those values\n",
        "\n"
      ]
    },
    {
      "cell_type": "code",
      "execution_count": 32,
      "metadata": {
        "colab": {
          "base_uri": "https://localhost:8080/"
        },
        "id": "anvAjTMriRuw",
        "outputId": "f13a25d5-b901-4d4a-d029-2eff90d5d878"
      },
      "outputs": [
        {
          "data": {
            "text/plain": [
              "Disease       False\n",
              "Symptom_1     False\n",
              "Symptom_2     False\n",
              "Symptom_3     False\n",
              "Symptom_4     False\n",
              "Symptom_5     False\n",
              "Symptom_6     False\n",
              "Symptom_7     False\n",
              "Symptom_8     False\n",
              "Symptom_9     False\n",
              "Symptom_10    False\n",
              "Symptom_11    False\n",
              "Symptom_12    False\n",
              "Symptom_13    False\n",
              "Symptom_14    False\n",
              "Symptom_15    False\n",
              "Symptom_16    False\n",
              "Symptom_17    False\n",
              "dtype: bool"
            ]
          },
          "execution_count": 32,
          "metadata": {},
          "output_type": "execute_result"
        }
      ],
      "source": [
        "(df[cols] == 0).all()\n"
      ]
    },
    {
      "cell_type": "code",
      "execution_count": 33,
      "metadata": {
        "colab": {
          "base_uri": "https://localhost:8080/"
        },
        "id": "nKqtuQKIiUu_",
        "outputId": "c3e22291-ce76-439e-c351-1895f410905e"
      },
      "outputs": [
        {
          "data": {
            "text/plain": [
              "Fungal infection                           120\n",
              "Hepatitis C                                120\n",
              "Hepatitis E                                120\n",
              "Alcoholic hepatitis                        120\n",
              "Tuberculosis                               120\n",
              "Common Cold                                120\n",
              "Pneumonia                                  120\n",
              "Dimorphic hemmorhoids(piles)               120\n",
              "Heart attack                               120\n",
              "Varicose veins                             120\n",
              "Hypothyroidism                             120\n",
              "Hyperthyroidism                            120\n",
              "Hypoglycemia                               120\n",
              "Osteoarthristis                            120\n",
              "Arthritis                                  120\n",
              "(vertigo) Paroymsal  Positional Vertigo    120\n",
              "Acne                                       120\n",
              "Urinary tract infection                    120\n",
              "Psoriasis                                  120\n",
              "Hepatitis D                                120\n",
              "Hepatitis B                                120\n",
              "Allergy                                    120\n",
              "hepatitis A                                120\n",
              "GERD                                       120\n",
              "Chronic cholestasis                        120\n",
              "Drug Reaction                              120\n",
              "Peptic ulcer diseae                        120\n",
              "AIDS                                       120\n",
              "Diabetes                                   120\n",
              "Gastroenteritis                            120\n",
              "Bronchial Asthma                           120\n",
              "Hypertension                               120\n",
              "Migraine                                   120\n",
              "Cervical spondylosis                       120\n",
              "Paralysis (brain hemorrhage)               120\n",
              "Jaundice                                   120\n",
              "Malaria                                    120\n",
              "Chicken pox                                120\n",
              "Dengue                                     120\n",
              "Typhoid                                    120\n",
              "Impetigo                                   120\n",
              "Name: Disease, dtype: int64"
            ]
          },
          "execution_count": 33,
          "metadata": {},
          "output_type": "execute_result"
        }
      ],
      "source": [
        "df['Disease'].value_counts()\n"
      ]
    },
    {
      "cell_type": "markdown",
      "metadata": {
        "id": "_PIxWqOdiXc1"
      },
      "source": [
        "Get the names of diseases from data\n",
        "\n"
      ]
    },
    {
      "cell_type": "code",
      "execution_count": 34,
      "metadata": {
        "colab": {
          "base_uri": "https://localhost:8080/"
        },
        "id": "mnig5-sXiYOl",
        "outputId": "f752cbdf-152c-4ff5-9984-61f53c96d22c"
      },
      "outputs": [
        {
          "data": {
            "text/plain": [
              "array(['Fungal infection', 'Allergy', 'GERD', 'Chronic cholestasis',\n",
              "       'Drug Reaction', 'Peptic ulcer diseae', 'AIDS', 'Diabetes',\n",
              "       'Gastroenteritis', 'Bronchial Asthma', 'Hypertension', 'Migraine',\n",
              "       'Cervical spondylosis', 'Paralysis (brain hemorrhage)', 'Jaundice',\n",
              "       'Malaria', 'Chicken pox', 'Dengue', 'Typhoid', 'hepatitis A',\n",
              "       'Hepatitis B', 'Hepatitis C', 'Hepatitis D', 'Hepatitis E',\n",
              "       'Alcoholic hepatitis', 'Tuberculosis', 'Common Cold', 'Pneumonia',\n",
              "       'Dimorphic hemmorhoids(piles)', 'Heart attack', 'Varicose veins',\n",
              "       'Hypothyroidism', 'Hyperthyroidism', 'Hypoglycemia',\n",
              "       'Osteoarthristis', 'Arthritis',\n",
              "       '(vertigo) Paroymsal  Positional Vertigo', 'Acne',\n",
              "       'Urinary tract infection', 'Psoriasis', 'Impetigo'], dtype=object)"
            ]
          },
          "execution_count": 34,
          "metadata": {},
          "output_type": "execute_result"
        }
      ],
      "source": [
        "df['Disease'].unique()\n"
      ]
    },
    {
      "cell_type": "markdown",
      "metadata": {
        "id": "4YVBYkP5ibZ4"
      },
      "source": [
        "Select the features as symptoms column and label as Disease column\n",
        "\n"
      ]
    },
    {
      "cell_type": "code",
      "execution_count": 35,
      "metadata": {
        "id": "aExEEQxEicA5"
      },
      "outputs": [],
      "source": [
        "data = df.iloc[:,1:].values\n",
        "labels = df['Disease'].values"
      ]
    },
    {
      "cell_type": "markdown",
      "metadata": {
        "id": "GhQf4Ap3ifI3"
      },
      "source": [
        "Split the data, labels with shuffle\n",
        "\n"
      ]
    },
    {
      "cell_type": "code",
      "execution_count": 36,
      "metadata": {
        "colab": {
          "base_uri": "https://localhost:8080/"
        },
        "id": "kFF7vq3Oifu3",
        "outputId": "4f2eac59-9f46-4616-c81d-5d401080c986"
      },
      "outputs": [
        {
          "name": "stdout",
          "output_type": "stream",
          "text": [
            "(4182, 17) (738, 17) (4182,) (738,)\n"
          ]
        }
      ],
      "source": [
        "x_train, x_test, y_train, y_test = train_test_split(data, labels, shuffle=True, train_size = 0.85)\n",
        "print(x_train.shape, x_test.shape, y_train.shape, y_test.shape)"
      ]
    },
    {
      "cell_type": "markdown",
      "metadata": {
        "id": "nTcy6aKSij41"
      },
      "source": [
        "Initialize and train a Support vector classifier\n",
        "\n"
      ]
    },
    {
      "cell_type": "code",
      "execution_count": 37,
      "metadata": {
        "colab": {
          "base_uri": "https://localhost:8080/"
        },
        "id": "Y8XX8AU_ik6F",
        "outputId": "214ae3db-f398-4b21-93ff-3bf8ea5ffa7a"
      },
      "outputs": [
        {
          "data": {
            "text/html": [
              "<style>#sk-container-id-1 {color: black;background-color: white;}#sk-container-id-1 pre{padding: 0;}#sk-container-id-1 div.sk-toggleable {background-color: white;}#sk-container-id-1 label.sk-toggleable__label {cursor: pointer;display: block;width: 100%;margin-bottom: 0;padding: 0.3em;box-sizing: border-box;text-align: center;}#sk-container-id-1 label.sk-toggleable__label-arrow:before {content: \"▸\";float: left;margin-right: 0.25em;color: #696969;}#sk-container-id-1 label.sk-toggleable__label-arrow:hover:before {color: black;}#sk-container-id-1 div.sk-estimator:hover label.sk-toggleable__label-arrow:before {color: black;}#sk-container-id-1 div.sk-toggleable__content {max-height: 0;max-width: 0;overflow: hidden;text-align: left;background-color: #f0f8ff;}#sk-container-id-1 div.sk-toggleable__content pre {margin: 0.2em;color: black;border-radius: 0.25em;background-color: #f0f8ff;}#sk-container-id-1 input.sk-toggleable__control:checked~div.sk-toggleable__content {max-height: 200px;max-width: 100%;overflow: auto;}#sk-container-id-1 input.sk-toggleable__control:checked~label.sk-toggleable__label-arrow:before {content: \"▾\";}#sk-container-id-1 div.sk-estimator input.sk-toggleable__control:checked~label.sk-toggleable__label {background-color: #d4ebff;}#sk-container-id-1 div.sk-label input.sk-toggleable__control:checked~label.sk-toggleable__label {background-color: #d4ebff;}#sk-container-id-1 input.sk-hidden--visually {border: 0;clip: rect(1px 1px 1px 1px);clip: rect(1px, 1px, 1px, 1px);height: 1px;margin: -1px;overflow: hidden;padding: 0;position: absolute;width: 1px;}#sk-container-id-1 div.sk-estimator {font-family: monospace;background-color: #f0f8ff;border: 1px dotted black;border-radius: 0.25em;box-sizing: border-box;margin-bottom: 0.5em;}#sk-container-id-1 div.sk-estimator:hover {background-color: #d4ebff;}#sk-container-id-1 div.sk-parallel-item::after {content: \"\";width: 100%;border-bottom: 1px solid gray;flex-grow: 1;}#sk-container-id-1 div.sk-label:hover label.sk-toggleable__label {background-color: #d4ebff;}#sk-container-id-1 div.sk-serial::before {content: \"\";position: absolute;border-left: 1px solid gray;box-sizing: border-box;top: 0;bottom: 0;left: 50%;z-index: 0;}#sk-container-id-1 div.sk-serial {display: flex;flex-direction: column;align-items: center;background-color: white;padding-right: 0.2em;padding-left: 0.2em;position: relative;}#sk-container-id-1 div.sk-item {position: relative;z-index: 1;}#sk-container-id-1 div.sk-parallel {display: flex;align-items: stretch;justify-content: center;background-color: white;position: relative;}#sk-container-id-1 div.sk-item::before, #sk-container-id-1 div.sk-parallel-item::before {content: \"\";position: absolute;border-left: 1px solid gray;box-sizing: border-box;top: 0;bottom: 0;left: 50%;z-index: -1;}#sk-container-id-1 div.sk-parallel-item {display: flex;flex-direction: column;z-index: 1;position: relative;background-color: white;}#sk-container-id-1 div.sk-parallel-item:first-child::after {align-self: flex-end;width: 50%;}#sk-container-id-1 div.sk-parallel-item:last-child::after {align-self: flex-start;width: 50%;}#sk-container-id-1 div.sk-parallel-item:only-child::after {width: 0;}#sk-container-id-1 div.sk-dashed-wrapped {border: 1px dashed gray;margin: 0 0.4em 0.5em 0.4em;box-sizing: border-box;padding-bottom: 0.4em;background-color: white;}#sk-container-id-1 div.sk-label label {font-family: monospace;font-weight: bold;display: inline-block;line-height: 1.2em;}#sk-container-id-1 div.sk-label-container {text-align: center;}#sk-container-id-1 div.sk-container {/* jupyter's `normalize.less` sets `[hidden] { display: none; }` but bootstrap.min.css set `[hidden] { display: none !important; }` so we also need the `!important` here to be able to override the default hidden behavior on the sphinx rendered scikit-learn.org. See: https://github.com/scikit-learn/scikit-learn/issues/21755 */display: inline-block !important;position: relative;}#sk-container-id-1 div.sk-text-repr-fallback {display: none;}</style><div id=\"sk-container-id-1\" class=\"sk-top-container\"><div class=\"sk-text-repr-fallback\"><pre>SVC(probability=True)</pre><b>In a Jupyter environment, please rerun this cell to show the HTML representation or trust the notebook. <br />On GitHub, the HTML representation is unable to render, please try loading this page with nbviewer.org.</b></div><div class=\"sk-container\" hidden><div class=\"sk-item\"><div class=\"sk-estimator sk-toggleable\"><input class=\"sk-toggleable__control sk-hidden--visually\" id=\"sk-estimator-id-1\" type=\"checkbox\" checked><label for=\"sk-estimator-id-1\" class=\"sk-toggleable__label sk-toggleable__label-arrow\">SVC</label><div class=\"sk-toggleable__content\"><pre>SVC(probability=True)</pre></div></div></div></div></div>"
            ],
            "text/plain": [
              "SVC(probability=True)"
            ]
          },
          "execution_count": 37,
          "metadata": {},
          "output_type": "execute_result"
        }
      ],
      "source": [
        "model = SVC(probability=True)\n",
        "model.fit(x_train, y_train)"
      ]
    },
    {
      "cell_type": "markdown",
      "metadata": {
        "id": "K-hbeQIXipUK"
      },
      "source": [
        "Throw predictions"
      ]
    },
    {
      "cell_type": "code",
      "execution_count": 38,
      "metadata": {
        "id": "HS2MrWYvip8M"
      },
      "outputs": [],
      "source": [
        "preds = model.predict(x_test)"
      ]
    },
    {
      "cell_type": "markdown",
      "metadata": {
        "id": "XvRaB9CQitkW"
      },
      "source": [
        "Plot the confusion matrix for 25 diseases and calculate f1, accuracy\n",
        "\n"
      ]
    },
    {
      "cell_type": "code",
      "execution_count": 39,
      "metadata": {
        "colab": {
          "base_uri": "https://localhost:8080/",
          "height": 485
        },
        "id": "-R173CJKivHX",
        "outputId": "813e19f2-f51f-437a-b8cf-a912319342e4"
      },
      "outputs": [
        {
          "name": "stdout",
          "output_type": "stream",
          "text": [
            "F1-score% = 93.9274726743197 | Accuracy% = 93.63143631436314\n"
          ]
        },
        {
          "data": {
            "text/plain": [
              "<Axes: >"
            ]
          },
          "execution_count": 39,
          "metadata": {},
          "output_type": "execute_result"
        },
        {
          "data": {
            "image/png": "[encoded data removed]",
            "text/plain": [
              "<Figure size 640x480 with 2 Axes>"
            ]
          },
          "metadata": {},
          "output_type": "display_data"
        }
      ],
      "source": [
        "conf_mat = confusion_matrix(y_test, preds)\n",
        "df_cm = pd.DataFrame(conf_mat, index=df['Disease'].unique(), columns=df['Disease'].unique())\n",
        "print('F1-score% =', f1_score(y_test, preds, average='macro')*100, '|', 'Accuracy% =', accuracy_score(y_test, preds)*100)\n",
        "sns.heatmap(df_cm)"
      ]
    },
    {
      "cell_type": "markdown",
      "metadata": {
        "id": "P0ZMWwlotPV_"
      },
      "source": [
        "Data visualization"
      ]
    },
    {
      "cell_type": "code",
      "execution_count": 40,
      "metadata": {
        "id": "WbmQ_TPEoBYO"
      },
      "outputs": [],
      "source": [
        "import pickle\n",
        "\n",
        "filename = \"final_model.pickle\"\n",
        "pickle.dump(model, open(filename, \"wb\"))"
      ]
    }
  ],
  "metadata": {
    "colab": {
      "provenance": []
    },
    "kernelspec": {
      "display_name": "Python 3",
      "language": "python",
      "name": "python3"
    },
    "language_info": {
      "codemirror_mode": {
        "name": "ipython",
        "version": 3
      },
      "file_extension": ".py",
      "mimetype": "text/x-python",
      "name": "python",
      "nbconvert_exporter": "python",
      "pygments_lexer": "ipython3",
      "version": "3.11.2"
    },
    "vscode": {
      "interpreter": {
        "hash": "040cfd5baec9b3e46647432b8bc592cead5ecdf4224f863cff9b587de46d2d74"
      }
    }
  },
  "nbformat": 4,
  "nbformat_minor": 0
}
